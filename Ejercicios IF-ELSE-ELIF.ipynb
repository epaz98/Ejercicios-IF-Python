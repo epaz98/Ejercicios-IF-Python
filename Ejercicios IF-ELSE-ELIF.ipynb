{
 "cells": [
  {
   "cell_type": "markdown",
   "id": "3ccd0a9b",
   "metadata": {},
   "source": [
    "# Ejercicios IF-ELSE-ELIF"
   ]
  },
  {
   "cell_type": "markdown",
   "id": "05ab1f00",
   "metadata": {},
   "source": [
    "1. Solicitar al usuario un número de cliente. Si el número es el 1000, imprimir \"Ganaste un premio\"."
   ]
  },
  {
   "cell_type": "code",
   "execution_count": 2,
   "id": "5d900f9f",
   "metadata": {},
   "outputs": [
    {
     "name": "stdout",
     "output_type": "stream",
     "text": [
      "Por favor, inserte el número de cliente: 1000\n",
      "Ganaste un premio!\n"
     ]
    }
   ],
   "source": [
    "x = int(input(\"Por favor, inserte el número de cliente: \"))\n",
    "\n",
    "if x==1000:\n",
    "    print(\"Ganaste un premio!\")"
   ]
  },
  {
   "cell_type": "markdown",
   "id": "9d05e45e",
   "metadata": {},
   "source": [
    "2. Solicitar al usuario que ingrese dos números y mostrar cuál de los dos es menor. No considerar el caso en que ambos números son iguales."
   ]
  },
  {
   "cell_type": "code",
   "execution_count": 5,
   "id": "c99047c9",
   "metadata": {},
   "outputs": [
    {
     "name": "stdout",
     "output_type": "stream",
     "text": [
      "Inserte el primer número: 29.6\n",
      "Inserte el segundo número: 29.7\n",
      "El numero mayor es 29.7\n"
     ]
    }
   ],
   "source": [
    "x = float(input(\"Inserte el primer número: \"))\n",
    "y = float(input(\"Inserte el segundo número: \"))\n",
    "\n",
    "if x>y:\n",
    "    print(\"El numero mayor es\",x)\n",
    "else:\n",
    "    print(\"El numero mayor es\",y)"
   ]
  },
  {
   "cell_type": "markdown",
   "id": "d878389e",
   "metadata": {},
   "source": [
    "3. Solicitar al usuario que ingrese dos números y mostrar cuál de los dos es menor. Considerar el caso en que ambos números son iguales."
   ]
  },
  {
   "cell_type": "code",
   "execution_count": 9,
   "id": "eb896c2c",
   "metadata": {},
   "outputs": [
    {
     "name": "stdout",
     "output_type": "stream",
     "text": [
      "Inserte el primer número: 19\n",
      "Inserte el segundo número: 10\n",
      "El primer número es mayor ( 19.0 )\n"
     ]
    }
   ],
   "source": [
    "a = float(input(\"Inserte el primer número: \"))\n",
    "b = float(input(\"Inserte el segundo número: \"))\n",
    "\n",
    "if a>b:\n",
    "    print(\"El primer número es mayor (\",a,\")\")\n",
    "elif a==b:\n",
    "    print(\"Los dos números son iguales (\",a,\"y\",b,\")\")\n",
    "else:\n",
    "    print(\"El segundo número es mayor (\",b,\")\")"
   ]
  },
  {
   "cell_type": "markdown",
   "id": "4a984dfb",
   "metadata": {},
   "source": [
    "4. Requerir al usuario que ingrese un día de la semana e imprimir un mensaje si es lunes, otro mensaje diferente si es viernes, otro mensaje diferente si es sábado o domingo. Si el día ingresado no es ninguno de esos, imprimir otro mensaje."
   ]
  },
  {
   "cell_type": "code",
   "execution_count": 46,
   "id": "3d900089",
   "metadata": {},
   "outputs": [
    {
     "name": "stdout",
     "output_type": "stream",
     "text": [
      "Dia de la semana: martes\n",
      "A esperar el fin de semana\n"
     ]
    }
   ],
   "source": [
    "dia = input(\"Dia de la semana: \")\n",
    "if dia == \"lunes\":\n",
    "    print(\"Oh, no!\")\n",
    "elif dia==\"viernes\":\n",
    "    print(\"¡Ya casi!\")\n",
    "elif dia==\"sábado\":\n",
    "    print(\"Ahora sí se puede descansar\")\n",
    "elif dia==\"domingo\":\n",
    "    print(\"Ahora sí se puede descansar\")\n",
    "else:\n",
    "    print(\"A esperar el fin de semana\")"
   ]
  },
  {
   "cell_type": "markdown",
   "id": "5a7250e6",
   "metadata": {},
   "source": [
    "5. Escribir un programa que, dado un número entero, muestre su valor absoluto. Nota: para los números positivos su valor absoluto es igual al número (el valor absoluto de 52 es 52), mientras que, para los negativos, su valor absoluto es el número multiplicado por -1 (el valor absoluto de -52 es 52)."
   ]
  },
  {
   "cell_type": "code",
   "execution_count": 4,
   "id": "f148879e",
   "metadata": {},
   "outputs": [
    {
     "name": "stdout",
     "output_type": "stream",
     "text": [
      "Introduce el número: 4\n",
      "El numero es positivo, por lo que su valor absoluto es 4\n"
     ]
    }
   ],
   "source": [
    "num = int(input(\"Introduce el número: \"))\n",
    "\n",
    "if num < 0:\n",
    "    num =+ abs(num)\n",
    "    print(\"El numero es negativo, por lo que su valor absoluto es\",num)\n",
    "else:\n",
    "    print(\"El numero es positivo, por lo que su valor absoluto es\",num)"
   ]
  },
  {
   "cell_type": "markdown",
   "id": "1f198225",
   "metadata": {},
   "source": [
    "6. Escribir un programa que pregunte al usuario su edad y muestre por pantalla si es mayor de edad o no."
   ]
  },
  {
   "cell_type": "code",
   "execution_count": 7,
   "id": "0963c377",
   "metadata": {},
   "outputs": [
    {
     "name": "stdout",
     "output_type": "stream",
     "text": [
      "Introduzca su edad: 17\n",
      "Eres menor de edad\n"
     ]
    }
   ],
   "source": [
    "edad = int(input(\"Introduzca su edad: \"))\n",
    "\n",
    "if edad >= 18:\n",
    "    print(\"Eres mayor de edad\")\n",
    "else:\n",
    "    print(\"Eres menor de edad\")"
   ]
  },
  {
   "cell_type": "markdown",
   "id": "2f59c042",
   "metadata": {},
   "source": [
    "7. Escribir un programa que almacene la cadena de caracteres contraseña en una variable, pregunte al usuario por la contraseña e imprima por pantalla si la contraseña introducida por el usuario coincide con la guardada en la variable sin tener en cuenta mayúsculas y minúsculas."
   ]
  },
  {
   "cell_type": "code",
   "execution_count": 12,
   "id": "2146da68",
   "metadata": {},
   "outputs": [
    {
     "name": "stdout",
     "output_type": "stream",
     "text": [
      "Introduzca la contraseña: contraseña\n",
      "Contraseña correcta, bienvenido.\n"
     ]
    }
   ],
   "source": [
    "key = \"contraseña\"\n",
    "\n",
    "password = input(\"Introduzca la contraseña: \")\n",
    "\n",
    "if key == password.lower():\n",
    "    print(\"Contraseña correcta, bienvenido.\")\n",
    "else:\n",
    "    print(\"Contraseña incorrecta, inténtelo de nuevo.\")"
   ]
  },
  {
   "cell_type": "markdown",
   "id": "25388fa0",
   "metadata": {},
   "source": [
    "8. Escribir un programa que pida al usuario dos números y muestre por pantalla su división. Si el divisor es cero el programa debe mostrar un error."
   ]
  },
  {
   "cell_type": "code",
   "execution_count": 15,
   "id": "5a8586b2",
   "metadata": {},
   "outputs": [
    {
     "name": "stdout",
     "output_type": "stream",
     "text": [
      "Introduzca el primer número: 3\n",
      "Introduzca el segundo número: 4\n",
      "El resultado de la división es 0.75\n"
     ]
    }
   ],
   "source": [
    "n1 = float(input(\"Introduzca el primer número: \"))\n",
    "n2 = float(input(\"Introduzca el segundo número: \"))\n",
    "\n",
    "def div(n1,n2):\n",
    "    return n1/n2\n",
    "\n",
    "if n2 == 0:\n",
    "    print(\"No se puede realizar una división cuando el denominador es igual a 0.\")\n",
    "else:\n",
    "    print(\"El resultado de la división es\",div(n1,n2))"
   ]
  },
  {
   "cell_type": "markdown",
   "id": "6967185c",
   "metadata": {},
   "source": [
    "9. Escribir un programa que pida al usuario un número entero y muestre por pantalla si es par o impar."
   ]
  },
  {
   "cell_type": "code",
   "execution_count": 19,
   "id": "efd6a92b",
   "metadata": {},
   "outputs": [
    {
     "name": "stdout",
     "output_type": "stream",
     "text": [
      "Introduzca un número: 24\n",
      "El número es par\n"
     ]
    }
   ],
   "source": [
    "num = int(input(\"Introduzca un número: \"))\n",
    "\n",
    "if num % 2 == 0:\n",
    "    print(\"El número es par\")\n",
    "else:\n",
    "    print(\"El número es impar\")"
   ]
  },
  {
   "cell_type": "markdown",
   "id": "6d641898",
   "metadata": {},
   "source": [
    "10. Para tributar un determinado impuesto se debe ser mayor de 16 años y tener unos ingresos iguales o superiores a 1000 € mensuales. Escribir un programa que pregunte al usuario su edad y sus ingresos mensuales y muestre por pantalla si el usuario tiene que tributar o no."
   ]
  },
  {
   "cell_type": "code",
   "execution_count": 22,
   "id": "2dd474cd",
   "metadata": {},
   "outputs": [
    {
     "name": "stdout",
     "output_type": "stream",
     "text": [
      "Por favor, introduzca su edad: 14\n",
      "Ingrese sus ingresos mensuales: 12000\n",
      "Aún no es necesario tributar.\n"
     ]
    }
   ],
   "source": [
    "edad = int(input(\"Por favor, introduzca su edad: \"))\n",
    "ing = float(input(\"Ingrese sus ingresos mensuales: \"))\n",
    "\n",
    "if edad > 16 and ing >= 1000:\n",
    "    print(\"El usuario tiene que tributar.\")\n",
    "else: \n",
    "    print(\"Aún no es necesario tributar.\")"
   ]
  },
  {
   "cell_type": "markdown",
   "id": "b721086b",
   "metadata": {},
   "source": [
    "11. Los alumnos de un curso se han dividido en dos grupos A y B de acuerdo al sexo y el nombre. El grupo A esta formado por las mujeres con un nombre anterior a la M y los hombres con un nombre posterior a la N y el grupo B por el resto. Escribir un programa que pregunte al usuario su nombre y sexo, y muestre por pantalla el grupo que le corresponde."
   ]
  },
  {
   "cell_type": "code",
   "execution_count": 27,
   "id": "1d9868aa",
   "metadata": {
    "scrolled": true
   },
   "outputs": [
    {
     "name": "stdout",
     "output_type": "stream",
     "text": [
      "Introduzca su nombre: Andrea\n",
      "Introduzca su sexo (M o F): F\n",
      "Estas en el grupo A\n"
     ]
    }
   ],
   "source": [
    "nom = input(\"Introduzca su nombre: \")\n",
    "gen = input(\"Introduzca su sexo (M o F): \")\n",
    "\n",
    "if (gen == 'F' and nom.lower() < 'm') or (gen == 'M' and nom.lower()>'n'):\n",
    "    print(\"Estas en el grupo A\")\n",
    "else:\n",
    "    print(\"Estas en el grupo B\")"
   ]
  },
  {
   "cell_type": "markdown",
   "id": "bb0156aa",
   "metadata": {},
   "source": [
    "12. Los tramos impositivos para la declaración de la renta en un determinado país son los siguientes:"
   ]
  },
  {
   "cell_type": "markdown",
   "id": "7b2d4e6c",
   "metadata": {},
   "source": [
    "| Renta | Tipo impositivo |\n",
    "| --- | --- |\n",
    "| Menos de 10,000 € | 5\\% |\n",
    "| Entre 10,000 y 20,000 € | 15\\% |\n",
    "| Entre 20,000 y 35,000 € | 20\\% |\n",
    "| Entre 35,000 y 60,000 € | 30\\% | \n",
    "| Más de 60,000 € | 45\\% |"
   ]
  },
  {
   "cell_type": "markdown",
   "id": "266f2bd7",
   "metadata": {},
   "source": [
    "Escribir un programa que pregunte al usuario su renta anual y muestre por pantalla el tipo impositivo que le corresponde."
   ]
  },
  {
   "cell_type": "code",
   "execution_count": 38,
   "id": "c7ded8d6",
   "metadata": {},
   "outputs": [
    {
     "name": "stdout",
     "output_type": "stream",
     "text": [
      "Ingrese su renta anual: 15000\n",
      "Se tiene que pagar 2250.0 €\n"
     ]
    }
   ],
   "source": [
    "rent = float(input(\"Ingrese su renta anual: \"))\n",
    "\n",
    "if rent < 10000:\n",
    "    tipo = 5\n",
    "elif rent >= 10000 and rent < 20000:\n",
    "    tipo = 15\n",
    "elif rent >= 20000 and rent < 35000:\n",
    "    tipo = 20\n",
    "elif rent >= 35000 and rent < 60000:\n",
    "    tipo = 30\n",
    "else:\n",
    "    tipo = 40\n",
    "\n",
    "def pago(rent,tipo):\n",
    "    return rent * (tipo/100)\n",
    "\n",
    "print(\"Se tiene que pagar\",pago(rent,tipo),\"€\")"
   ]
  },
  {
   "cell_type": "markdown",
   "id": "5555e5ff",
   "metadata": {},
   "source": [
    "13. En una determinada empresa, sus empleados son evaluados al final de cada año. Los puntos que pueden obtener en la evaluación comienzan en 0.0 y pueden ir aumentando, traduciéndose en mejores beneficios. Los puntos que pueden conseguir los empleados pueden ser 0.0, 0.4, 0.6 o más, pero no valores intermedios entre las cifras mencionadas. A continuación se muestra una tabla con los niveles correspondientes a cada puntuación. La cantidad de dinero conseguida en cada nivel es de 2.400€ multiplicada por la puntuación del nivel."
   ]
  },
  {
   "cell_type": "markdown",
   "id": "951052ea",
   "metadata": {},
   "source": [
    "| Nivel | Puntuación |\n",
    "| --- | --- |\n",
    "| Inaceptable | 0.0 |\n",
    "| Aceptable | 0.4 |\n",
    "| Meritorio | 0.6 o más |"
   ]
  },
  {
   "cell_type": "markdown",
   "id": "c049c679",
   "metadata": {},
   "source": [
    "Escribir un programa que lea la puntuación del usuario e indique su nivel de rendimiento, así como la cantidad de dinero que recibirá el usuario."
   ]
  },
  {
   "cell_type": "code",
   "execution_count": 42,
   "id": "d8fae47c",
   "metadata": {},
   "outputs": [
    {
     "name": "stdout",
     "output_type": "stream",
     "text": [
      "Introduce tu puntación: 0.3\n",
      "Esta puntuación no es válida.\n"
     ]
    }
   ],
   "source": [
    "money = 2400\n",
    "inaceptable = 0.0\n",
    "aceptable = 0.4\n",
    "meritorio = 0.6\n",
    "\n",
    "puntos = float(input(\"Introduce tu puntación: \"))\n",
    "\n",
    "\n",
    "if puntos == inaceptable:\n",
    "    nivel = 'Inaceptable'\n",
    "elif puntos == aceptable:\n",
    "    nivel = 'Aceptable'\n",
    "elif puntos >= 0.6:\n",
    "    nivel = 'Meritorio'\n",
    "else:\n",
    "    nivel = \"\"\n",
    "    \n",
    "def bon(puntos,money):\n",
    "    return puntos * money\n",
    "    \n",
    "if nivel == \"\":\n",
    "    print(\"Esta puntuación no es válida.\")\n",
    "else:\n",
    "    print(\"Tu nivel de rendimiento es\",nivel)\n",
    "    print(\"Tu bonificación es de\",bon(puntos,money),\"€\")"
   ]
  },
  {
   "cell_type": "markdown",
   "id": "9411e04d",
   "metadata": {},
   "source": [
    "14. Escribir un programa para una empresa que tiene salas de juegos para todas las edades y quiere calcular de forma automática el precio que debe cobrar a sus clientes por entrar. El programa debe preguntar al usuario la edad del cliente y mostrar el precio de la entrada. Si el cliente es menor de 4 años puede entrar gratis, si tiene entre 4 y 18 años debe pagar 5€ y si es mayor de 18 años, 10€."
   ]
  },
  {
   "cell_type": "code",
   "execution_count": 48,
   "id": "97d0bd39",
   "metadata": {},
   "outputs": [
    {
     "name": "stdout",
     "output_type": "stream",
     "text": [
      "Ingresa tu edad: 20\n",
      "Tu entrada cuesta 10€.\n"
     ]
    }
   ],
   "source": [
    "p1 = 0\n",
    "p2 = 5\n",
    "p3 = 10\n",
    "\n",
    "edad = int(input(\"Ingresa tu edad: \"))\n",
    "\n",
    "if edad < 4:\n",
    "    print(\"Tu entrada cuesta\",p1,\"€. Tu entrada es gratis.\")\n",
    "elif edad >= 4 and edad <= 18:\n",
    "    print(\"Tu entrada cuesta \",p2,\"€.\",sep='')\n",
    "else:\n",
    "    print(\"Tu entrada cuesta \",p3,\"€.\",sep='')"
   ]
  },
  {
   "cell_type": "code",
   "execution_count": 49,
   "id": "552bc501",
   "metadata": {},
   "outputs": [
    {
     "name": "stdout",
     "output_type": "stream",
     "text": [
      "Ingresa tu edad: 5\n",
      "Tu entrada cuesta 5€\n"
     ]
    }
   ],
   "source": [
    "edad = int(input(\"Ingresa tu edad: \"))\n",
    "\n",
    "if edad < 4:\n",
    "    precio = 0\n",
    "elif edad <= 18:\n",
    "    precio = 5\n",
    "else:\n",
    "    precio = 10\n",
    "    \n",
    "print(\"Tu entrada cuesta \",precio,\"€\",sep='')"
   ]
  },
  {
   "cell_type": "markdown",
   "id": "0094dba5",
   "metadata": {},
   "source": [
    "15. La pizzería Bella Napoli ofrece pizzas vegetarianas y no vegetarianas a sus clientes. Los ingredientes para cada tipo de pizza aparecen a continuación.\n",
    "\n",
    "- Ingredientes vegetarianos: Pimiento y tofu.\n",
    "- Ingredientes no vegetarianos: Peperoni, Jamón y Salmón.\n",
    "\n",
    "Escribir un programa que pregunte al usuario si quiere una pizza vegetariana o no, y en función de su respuesta le muestre un menú con los ingredientes disponibles para que elija. Solo se puede eligir un ingrediente además de la mozzarella y el tomate que están en todas la pizzas. Al final se debe mostrar por pantalla si la pizza elegida es vegetariana o no y todos los ingredientes que lleva."
   ]
  },
  {
   "cell_type": "code",
   "execution_count": 51,
   "id": "437046ee",
   "metadata": {},
   "outputs": [
    {
     "name": "stdout",
     "output_type": "stream",
     "text": [
      "Bienvenido a la pizzeria Bella Napoli.\n",
      "Tipos de pizza\n",
      "\t1- Vegetariana\n",
      "\t2- No vegetariana\n",
      "\n",
      "Introduce el número correspondiente al tipo de pizza que quieres:1\n",
      "Ingredientes de pizzas vegetarianas\n",
      "\t1- Pimiento\n",
      "\t2- Tofu\n",
      "\n",
      "Introduce el ingrediente que deseas: 2\n",
      "Pizza vegetariana con mozzarella, tomate y tofu\n"
     ]
    }
   ],
   "source": [
    "print(\"Bienvenido a la pizzeria Bella Napoli.\\nTipos de pizza\\n\\t1- Vegetariana\\n\\t2- No vegetariana\\n\")\n",
    "tipo = input(\"Introduce el número correspondiente al tipo de pizza que quieres:\")\n",
    "\n",
    "if tipo == \"1\":\n",
    "    print(\"Ingredientes de pizzas vegetarianas\\n\\t1- Pimiento\\n\\t2- Tofu\\n\")\n",
    "    ingrediente = input(\"Introduce el ingrediente que deseas: \")\n",
    "    print(\"Pizza vegetariana con mozzarella, tomate y \", end=\"\")\n",
    "    if ingrediente == \"1\":\n",
    "        print(\"pimiento\")\n",
    "    else: \n",
    "        print(\"tofu\")\n",
    "else:\n",
    "    print(\"Ingredientes de pizzas no vegetarianas\\n\\t1- Peperoni\\n\\t2- Jamón\\n\\t3- Salmón\\n\")\n",
    "    ingrediente = input(\"Introduce el ingrediente que deseas: \")\n",
    "    print(\"Pizza no vegetarina con mozarrella, tomate y \", end=\"\")\n",
    "    if ingrediente == \"1\":\n",
    "        print(\"peperoni\")\n",
    "    elif ingrediente == \"2\":\n",
    "        print(\"jamón\")\n",
    "    else:\n",
    "        print(\"salmón\")"
   ]
  }
 ],
 "metadata": {
  "kernelspec": {
   "display_name": "Python 3",
   "language": "python",
   "name": "python3"
  },
  "language_info": {
   "codemirror_mode": {
    "name": "ipython",
    "version": 3
   },
   "file_extension": ".py",
   "mimetype": "text/x-python",
   "name": "python",
   "nbconvert_exporter": "python",
   "pygments_lexer": "ipython3",
   "version": "3.8.8"
  }
 },
 "nbformat": 4,
 "nbformat_minor": 5
}
